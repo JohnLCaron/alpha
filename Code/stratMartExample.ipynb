{
 "cells": [
  {
   "cell_type": "code",
   "execution_count": 1,
   "id": "c7c83862",
   "metadata": {},
   "outputs": [],
   "source": [
    "import math\n",
    "import scipy as sp\n",
    "import matplotlib.pyplot as plt\n",
    "from scipy.stats import bernoulli, uniform, chi2\n",
    "import numpy as np\n",
    "from scipy.stats.mstats import gmean\n",
    "from numpy.testing import assert_allclose\n",
    "from utils import sprt_mart, alpha_mart, shrink_trunc, stratum_selector, \\\n",
    "    multinomial_selector, get_global_pvalue, simulate_audits, round_robin\n",
    "np.random.seed(123456789)"
   ]
  },
  {
   "cell_type": "code",
   "execution_count": 2,
   "id": "a7444bec",
   "metadata": {},
   "outputs": [],
   "source": [
    "theta = 1/2 \n",
    "hand_tally = np.concatenate((np.ones(50), np.zeros(30), np.ones(60), np.zeros(40)))\n",
    "reported_tally = np.concatenate((np.ones(50), np.zeros(30), np.ones(70), np.zeros(30)))\n",
    "omega = reported_tally - hand_tally\n",
    "stratum_indicator = np.concatenate((np.ones(80), 2*np.ones(100)))\n",
    "\n",
    "\n",
    "v = np.array([2 * np.mean(reported_tally[stratum_indicator == 1]) - 1, \n",
    "              2 * np.mean(reported_tally[stratum_indicator == 2]) - 1])\n",
    "u = 2 / (2 - v)\n",
    "stratum_1 = (1 - omega[stratum_indicator == 1]) / (2 - v[0])\n",
    "stratum_2 = (1 - omega[stratum_indicator == 2]) / (2 - v[1])"
   ]
  },
  {
   "cell_type": "code",
   "execution_count": 3,
   "id": "a5a873cd",
   "metadata": {},
   "outputs": [],
   "source": [
    "p_value, stratum_selections, null_selections = get_global_pvalue(\n",
    "    strata = [stratum_1, stratum_2], \n",
    "    u = u, \n",
    "    v = v, \n",
    "    rule = multinomial_selector)"
   ]
  },
  {
   "cell_type": "code",
   "execution_count": 5,
   "id": "fba7fdb9",
   "metadata": {},
   "outputs": [],
   "source": [
    "#this is much slower than the R implementation in sweeter-than-sweet\n",
    "stopping_times = simulate_audits(\n",
    "    strata = [stratum_1, stratum_2], \n",
    "    u = u, \n",
    "    v = v, \n",
    "    rule = round_robin, \n",
    "    n_sims = 30, \n",
    "    alpha = .05)"
   ]
  },
  {
   "cell_type": "code",
   "execution_count": 15,
   "id": "c4e5c94a",
   "metadata": {},
   "outputs": [
    {
     "data": {
      "text/plain": [
       "[<matplotlib.lines.Line2D at 0x1470cb130>]"
      ]
     },
     "execution_count": 15,
     "metadata": {},
     "output_type": "execute_result"
    },
    {
     "data": {
      "image/png": "[encoded data removed]",
      "text/plain": [
       "<Figure size 432x288 with 1 Axes>"
      ]
     },
     "metadata": {
      "needs_background": "light"
     },
     "output_type": "display_data"
    }
   ],
   "source": [
    "# topography of the P-value of the intersection null at a few sample sizes\n",
    "strata = [stratum_1, stratum_2]\n",
    "#rule = multinomial_selector\n",
    "rule = round_robin\n",
    "\n",
    "shuffled_1 = np.random.permutation(strata[0])\n",
    "shuffled_2 = np.random.permutation(strata[1])\n",
    "N = np.concatenate((np.array([len(shuffled_1)]), np.array([len(shuffled_2)])))\n",
    "w = N/sum(N)\n",
    "epsilon = 1 / (2*np.max(N))\n",
    "theta_1_grid = np.arange(epsilon, u[0] - epsilon, epsilon) #sequence from epsilon to u[0] - epsilon\n",
    "theta_2_grid = (1/2 - w[0] * theta_1_grid) / w[1]\n",
    "strata_matrix = np.zeros((len(shuffled_1) + len(shuffled_2) - 1, len(theta_1_grid)))\n",
    "intersection_marts = np.zeros((len(shuffled_1) + len(shuffled_2), len(theta_1_grid)))\n",
    "mart_1 = np.zeros((len(shuffled_1), len(theta_1_grid)))\n",
    "mart_2 = np.zeros((len(shuffled_2), len(theta_1_grid)))\n",
    "for i in range(len(theta_1_grid)):\n",
    "    mart_1[:,i], mu_1 = alpha_mart(x = shuffled_1, N = N[0], mu = theta_1_grid[i], eta = 1/(2-v[0]), f = .01, u = u[0])\n",
    "    mart_2[:,i], mu_2 = alpha_mart(x = shuffled_2, N = N[1], mu = theta_2_grid[i], eta = 1/(2-v[1]), f = .01, u = u[1])\n",
    "    strata_matrix[:,i], intersection_marts[:,i] = stratum_selector(\n",
    "        marts = [mart_1[:,i], mart_2[:,i]],\n",
    "        mu = [mu_1, mu_2],\n",
    "        u = u,\n",
    "        rule = rule)\n",
    "null_index = np.argmin(intersection_marts, axis = 1)\n",
    "#stratum_selections = strata_matrix[1:sum(N), null_index]\n",
    "#minimized_martingale = intersection_marts[1:sum(N), null_index]\n",
    "minimized_martingale = np.ones(sum(N))\n",
    "stratum_selections = np.ones(sum(N) - 1) * np.inf\n",
    "for i in np.arange(sum(N) - 1):\n",
    "    minimized_martingale[i] = intersection_marts[i,null_index[i]]\n",
    "    stratum_selections[i] = strata_matrix[i,null_index[i]]\n",
    "maximized_p_values = 1 / np.maximum(1, minimized_martingale)\n",
    "plt.plot(intersection_marts[10,70:130])"
   ]
  },
  {
   "cell_type": "code",
   "execution_count": 16,
   "id": "2bbf3be5",
   "metadata": {},
   "outputs": [
    {
     "data": {
      "text/plain": [
       "[<matplotlib.lines.Line2D at 0x147122280>]"
      ]
     },
     "execution_count": 16,
     "metadata": {},
     "output_type": "execute_result"
    },
    {
     "data": {
      "image/png": "[encoded data removed]",
      "text/plain": [
       "<Figure size 432x288 with 1 Axes>"
      ]
     },
     "metadata": {
      "needs_background": "light"
     },
     "output_type": "display_data"
    }
   ],
   "source": [
    "#the below plots are smooth if the rule is round robin, and not at all smooth if it is the intersection martingale\n",
    "#it might have to do with the fact that different samples are used for every value of theta_1_grid...\n",
    "#this doesn't happen in the R code: the contours of the intersection martingale are smooth,\n",
    "#but in that implementation there is no auxiliary randomness\n",
    "thresholded_marts = intersection_marts\n",
    "thresholded_marts[intersection_marts < 1] = 1\n",
    "all_p_values = 1/thresholded_marts\n",
    "plt.plot(theta_1_grid, all_p_values[1,:])\n",
    "plt.plot(theta_1_grid, all_p_values[5,:])\n",
    "plt.plot(theta_1_grid, all_p_values[30,:])\n",
    "plt.plot(theta_1_grid, all_p_values[100,:])"
   ]
  },
  {
   "cell_type": "code",
   "execution_count": null,
   "id": "b0de76cf",
   "metadata": {},
   "outputs": [],
   "source": []
  }
 ],
 "metadata": {
  "kernelspec": {
   "display_name": "Python 3 (ipykernel)",
   "language": "python",
   "name": "python3"
  },
  "language_info": {
   "codemirror_mode": {
    "name": "ipython",
    "version": 3
   },
   "file_extension": ".py",
   "mimetype": "text/x-python",
   "name": "python",
   "nbconvert_exporter": "python",
   "pygments_lexer": "ipython3",
   "version": "3.8.9"
  }
 },
 "nbformat": 4,
 "nbformat_minor": 5
}
