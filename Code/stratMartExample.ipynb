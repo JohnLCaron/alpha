{
 "cells": [
  {
   "cell_type": "code",
   "execution_count": 1,
   "id": "77c00aa9",
   "metadata": {},
   "outputs": [],
   "source": [
    "import math\n",
    "import scipy as sp\n",
    "import matplotlib.pyplot as plt\n",
    "from scipy.stats import bernoulli, uniform, chi2\n",
    "import numpy as np\n",
    "from scipy.stats.mstats import gmean\n",
    "from numpy.testing import assert_allclose\n",
    "from utils import sprt_mart, alpha_mart, shrink_trunc, stratum_selector, multinomial_selector\n",
    "np.random.seed(123456789)"
   ]
  },
  {
   "cell_type": "code",
   "execution_count": 2,
   "id": "1d6b2e46",
   "metadata": {},
   "outputs": [],
   "source": [
    "theta = 1/2 \n",
    "hand_tally = np.concatenate((np.ones(40), np.zeros(40), np.ones(60), np.zeros(40)))\n",
    "reported_tally = np.concatenate((np.ones(40), np.zeros(40), np.ones(70), np.zeros(30)))\n",
    "omega = reported_tally - hand_tally\n",
    "strata = np.concatenate((np.ones(80), 2*np.ones(100)))\n",
    "\n",
    "\n",
    "v = np.array([2 * np.mean(reported_tally[strata == 1]) - 1, 2 * np.mean(reported_tally[strata == 2]) - 1])\n",
    "u = 2 / (2 - v)\n",
    "stratum_1 = (1 - omega[strata == 1]) / (2 - v[0])\n",
    "stratum_2 = (1 - omega[strata == 2]) / (2 - v[1])"
   ]
  },
  {
   "cell_type": "code",
   "execution_count": 3,
   "id": "2517f8b3",
   "metadata": {},
   "outputs": [],
   "source": [
    "shuffled_1 = np.random.permutation(stratum_1)\n",
    "shuffled_2 = np.random.permutation(stratum_2)\n",
    "N = np.concatenate((np.array([len(shuffled_1)]), np.array([len(shuffled_2)])))\n",
    "w = N/sum(N)\n",
    "epsilon = 1 / (2*np.max(N))\n",
    "theta_1_grid = np.arange(epsilon, u[0] - epsilon, epsilon) #sequence from epsilon to u[0] - epsilon\n",
    "theta_2_grid = (theta_1_grid - w[0] * theta_1_grid) / w[1]"
   ]
  },
  {
   "cell_type": "code",
   "execution_count": 14,
   "id": "6c952e55",
   "metadata": {},
   "outputs": [
    {
     "data": {
      "text/plain": [
       "array([1.00064004e+00, 1.00879109e+00, 1.01709307e+00, 1.02555039e+00,\n",
       "       1.03416760e+00, 1.04294947e+00, 1.05190094e+00, 1.06102716e+00,\n",
       "       1.07033349e+00, 1.07982553e+00, 1.08950910e+00, 1.09939029e+00,\n",
       "       1.10947544e+00, 1.11977118e+00, 1.13028442e+00, 1.14102240e+00,\n",
       "       1.15199268e+00, 1.16320318e+00, 1.17466218e+00, 1.18637834e+00,\n",
       "       1.19836078e+00, 1.18622851e-04, 1.18600821e-04, 1.18578600e-04,\n",
       "       1.18556182e-04, 1.18533560e-04, 1.18510727e-04, 1.18487678e-04,\n",
       "       1.18464405e-04, 1.18440804e-04, 1.09892876e-04, 1.09759251e-04,\n",
       "       1.09624338e-04, 1.09488095e-04, 1.09350473e-04, 1.09211427e-04,\n",
       "       1.09070906e-04, 1.08928857e-04, 1.08785227e-04, 1.08639958e-04,\n",
       "       1.08492991e-04, 1.08344264e-04, 1.08193710e-04, 1.00799962e-04,\n",
       "       1.00535554e-04, 1.00267958e-04, 9.99970469e-05, 9.97226910e-05,\n",
       "       9.94447514e-05, 9.91630817e-05, 9.88775274e-05, 9.85879251e-05,\n",
       "       9.82941015e-05, 9.16246277e-05, 9.12117316e-05, 9.07928281e-05,\n",
       "       9.03676413e-05, 8.99358772e-05, 8.37398690e-05, 8.31898590e-05,\n",
       "       7.73112125e-05, 7.66495317e-05, 7.59776832e-05, 7.52951124e-05,\n",
       "       7.46012190e-05, 7.38953518e-05, 7.31768022e-05, 7.24447967e-05,\n",
       "       7.16984887e-05, 7.09369475e-05, 7.01591469e-05, 6.93639503e-05,\n",
       "       6.85500934e-05, 6.77161632e-05, 6.68605717e-05, 6.59815243e-05,\n",
       "       6.50769799e-05, 6.41446002e-05, 6.31816853e-05, 6.21850897e-05,\n",
       "       6.11511123e-05, 6.00753469e-05, 5.50656308e-05, 5.36957779e-05,\n",
       "       4.85254853e-05, 4.67453616e-05, 4.48280716e-05, 3.89500037e-05,\n",
       "       3.60367474e-05, 3.25182928e-05, 2.77942820e-05, 1.91651584e-05,\n",
       "       0.00000000e+00, 0.00000000e+00, 0.00000000e+00, 0.00000000e+00,\n",
       "       0.00000000e+00, 0.00000000e+00, 0.00000000e+00, 0.00000000e+00])"
      ]
     },
     "execution_count": 14,
     "metadata": {},
     "output_type": "execute_result"
    }
   ],
   "source": [
    "#NEED TO CHECK THIS\n",
    "#alpha_mart() seems to be returning negative numbers, which makes things fail downstreatm\n",
    "\n",
    "x = shuffled_2\n",
    "N = N[1]\n",
    "mu = theta_2_grid[123]\n",
    "eta = 1/(2-v[1])\n",
    "estim = shrink_trunc\n",
    "f = .01\n",
    "u = u[1]\n",
    "S = np.insert(np.cumsum(x),0,0)[0:-1]  # 0, x_1, x_1+x_2, ...,\n",
    "j = np.arange(1,len(x)+1)              # 1, 2, 3, ..., len(x)\n",
    "m = (N*mu-S)/(N-j+1) if np.isfinite(N) else mu   # mean of population after (j-1)st draw, if null is true\n",
    "etaj = estim(x=x, N=N, mu=mu, nu=eta, f=f,u=u)\n",
    "with np.errstate(divide='ignore',invalid='ignore'):\n",
    "    terms = np.cumprod((x*etaj/m + (u-x)*(u-etaj)/(u-m))/u)\n",
    "terms[m<0] = np.inf\n",
    "terms[m>u] = 0\n",
    "terms"
   ]
  },
  {
   "cell_type": "code",
   "execution_count": 16,
   "id": "d4d7a6b4",
   "metadata": {},
   "outputs": [
    {
     "data": {
      "text/plain": [
       "array([0.67      , 1.24993751, 1.24993751, 1.24993751, 1.24993751,\n",
       "       1.24993751, 1.24993751, 1.24993751, 1.24993751, 1.24993751,\n",
       "       1.24993751, 1.24993751, 1.24993751, 1.24993751, 1.24993751,\n",
       "       1.24993751, 1.24993751, 1.24993751, 1.24993751, 1.24993751,\n",
       "       1.24993751, 1.24993751, 0.67187044, 0.67170686, 0.67154606,\n",
       "       0.67138803, 0.67123273, 0.67108015, 0.67093028, 0.670962  ,\n",
       "       0.67176338, 0.67955477, 0.67954883, 0.67954953, 0.67955706,\n",
       "       0.67957161, 0.6795934 , 0.67962264, 0.6796596 , 0.67970453,\n",
       "       0.67975771, 0.67981946, 0.6798901 , 0.67997   , 0.69122024,\n",
       "       0.69152274, 0.69184326, 0.6921827 , 0.69254205, 0.69292238,\n",
       "       0.69332483, 0.69375065, 0.69420119, 0.69467792, 0.70876941,\n",
       "       0.70960541, 0.71048658, 0.71141597, 0.71239691, 0.72867697,\n",
       "       0.73015347, 0.74773885, 0.74981003, 0.75200086, 0.75432122,\n",
       "       0.75678209, 0.75939576, 0.76217601, 0.76513834, 0.76830025,\n",
       "       0.77168158, 0.77530492, 0.77919607, 0.78338467, 0.7879049 ,\n",
       "       0.79279645, 0.79810558, 0.80388665, 0.81020386, 0.81713366,\n",
       "       0.8247678 , 0.83321734, 0.84261802, 0.88990224, 0.90404799,\n",
       "       0.96176073, 0.98309035, 1.00771747, 1.08854958, 1.12727874,\n",
       "       1.17377381, 1.23062317, 1.25      , 1.25      , 1.25      ,\n",
       "       1.25      , 1.25      , 1.25      , 1.25      , 1.25      ])"
      ]
     },
     "execution_count": 16,
     "metadata": {},
     "output_type": "execute_result"
    }
   ],
   "source": [
    "etaj"
   ]
  },
  {
   "cell_type": "code",
   "execution_count": 7,
   "id": "a41c6661",
   "metadata": {},
   "outputs": [
    {
     "name": "stderr",
     "output_type": "stream",
     "text": [
      "/Users/Jake/Library/Python/3.8/lib/python/site-packages/scipy/stats/_stats_py.py:287: RuntimeWarning: divide by zero encountered in log\n",
      "  log_a = np.log(a)\n",
      "/Users/Jake/Dropbox/RLAs/alpha/Code/utils.py:217: RuntimeWarning: divide by zero encountered in true_divide\n",
      "  ratios = running_T/geomean\n",
      "/Users/Jake/Dropbox/RLAs/alpha/Code/utils.py:217: RuntimeWarning: invalid value encountered in true_divide\n",
      "  ratios = running_T/geomean\n"
     ]
    },
    {
     "ename": "ValueError",
     "evalue": "probabilities contain NaN",
     "output_type": "error",
     "traceback": [
      "\u001b[0;31m---------------------------------------------------------------------------\u001b[0m",
      "\u001b[0;31mValueError\u001b[0m                                Traceback (most recent call last)",
      "Input \u001b[0;32mIn [7]\u001b[0m, in \u001b[0;36m<cell line: 4>\u001b[0;34m()\u001b[0m\n\u001b[1;32m      5\u001b[0m mart_1 \u001b[38;5;241m=\u001b[39m alpha_mart(x \u001b[38;5;241m=\u001b[39m shuffled_1, N \u001b[38;5;241m=\u001b[39m N[\u001b[38;5;241m0\u001b[39m], mu \u001b[38;5;241m=\u001b[39m theta_1_grid[i], eta \u001b[38;5;241m=\u001b[39m \u001b[38;5;241m1\u001b[39m\u001b[38;5;241m/\u001b[39m(\u001b[38;5;241m2\u001b[39m\u001b[38;5;241m-\u001b[39mv[\u001b[38;5;241m0\u001b[39m]), f \u001b[38;5;241m=\u001b[39m \u001b[38;5;241m.01\u001b[39m, u \u001b[38;5;241m=\u001b[39m u[\u001b[38;5;241m0\u001b[39m])\n\u001b[1;32m      6\u001b[0m mart_2 \u001b[38;5;241m=\u001b[39m alpha_mart(x \u001b[38;5;241m=\u001b[39m shuffled_2, N \u001b[38;5;241m=\u001b[39m N[\u001b[38;5;241m1\u001b[39m], mu \u001b[38;5;241m=\u001b[39m theta_2_grid[i], eta \u001b[38;5;241m=\u001b[39m \u001b[38;5;241m1\u001b[39m\u001b[38;5;241m/\u001b[39m(\u001b[38;5;241m2\u001b[39m\u001b[38;5;241m-\u001b[39mv[\u001b[38;5;241m1\u001b[39m]), f \u001b[38;5;241m=\u001b[39m \u001b[38;5;241m.01\u001b[39m, u \u001b[38;5;241m=\u001b[39m u[\u001b[38;5;241m1\u001b[39m])\n\u001b[0;32m----> 7\u001b[0m intersection_marts[:,i] \u001b[38;5;241m=\u001b[39m \u001b[43mstratum_selector\u001b[49m\u001b[43m(\u001b[49m\u001b[43mmarts\u001b[49m\u001b[43m \u001b[49m\u001b[38;5;241;43m=\u001b[39;49m\u001b[43m \u001b[49m\u001b[43m[\u001b[49m\u001b[43mmart_1\u001b[49m\u001b[43m,\u001b[49m\u001b[43m \u001b[49m\u001b[43mmart_2\u001b[49m\u001b[43m]\u001b[49m\u001b[43m,\u001b[49m\u001b[43m \u001b[49m\u001b[43mrule\u001b[49m\u001b[43m \u001b[49m\u001b[38;5;241;43m=\u001b[39;49m\u001b[43m \u001b[49m\u001b[43mmultinomial_selector\u001b[49m\u001b[43m)\u001b[49m[\u001b[38;5;241m1\u001b[39m]\n",
      "File \u001b[0;32m~/Dropbox/RLAs/alpha/Code/utils.py:183\u001b[0m, in \u001b[0;36mstratum_selector\u001b[0;34m(marts, rule, seed)\u001b[0m\n\u001b[1;32m    181\u001b[0m \u001b[38;5;28;01mwhile\u001b[39;00m \u001b[38;5;28many\u001b[39m(running_n \u001b[38;5;241m<\u001b[39m ns\u001b[38;5;241m-\u001b[39m\u001b[38;5;241m1\u001b[39m):\n\u001b[1;32m    182\u001b[0m     t \u001b[38;5;241m+\u001b[39m\u001b[38;5;241m=\u001b[39m \u001b[38;5;241m1\u001b[39m\n\u001b[0;32m--> 183\u001b[0m     next_s \u001b[38;5;241m=\u001b[39m \u001b[43mrule\u001b[49m\u001b[43m(\u001b[49m\u001b[43mrunning_T\u001b[49m\u001b[43m,\u001b[49m\u001b[43m \u001b[49m\u001b[43mrunning_n\u001b[49m\u001b[43m,\u001b[49m\u001b[43m \u001b[49m\u001b[43mns\u001b[49m\u001b[43m)\u001b[49m\n\u001b[1;32m    184\u001b[0m     running_n[next_s] \u001b[38;5;241m+\u001b[39m\u001b[38;5;241m=\u001b[39m \u001b[38;5;241m1\u001b[39m\n\u001b[1;32m    185\u001b[0m     running_T[next_s] \u001b[38;5;241m=\u001b[39m marts[next_s][\u001b[38;5;28mint\u001b[39m(running_n[next_s])]\n",
      "File \u001b[0;32m~/Dropbox/RLAs/alpha/Code/utils.py:220\u001b[0m, in \u001b[0;36mmultinomial_selector\u001b[0;34m(running_T, running_n, ns, prng)\u001b[0m\n\u001b[1;32m    218\u001b[0m ratios \u001b[38;5;241m=\u001b[39m np\u001b[38;5;241m.\u001b[39mwhere(available, ratios, \u001b[38;5;241m0\u001b[39m)\n\u001b[1;32m    219\u001b[0m probs \u001b[38;5;241m=\u001b[39m ratios\u001b[38;5;241m/\u001b[39m\u001b[38;5;28msum\u001b[39m(ratios)\n\u001b[0;32m--> 220\u001b[0m \u001b[38;5;28;01mreturn\u001b[39;00m \u001b[43mnp\u001b[49m\u001b[38;5;241;43m.\u001b[39;49m\u001b[43mrandom\u001b[49m\u001b[38;5;241;43m.\u001b[39;49m\u001b[43mchoice\u001b[49m\u001b[43m(\u001b[49m\u001b[38;5;28;43mlen\u001b[39;49m\u001b[43m(\u001b[49m\u001b[43mratios\u001b[49m\u001b[43m)\u001b[49m\u001b[43m,\u001b[49m\u001b[43m \u001b[49m\u001b[43mp\u001b[49m\u001b[43m \u001b[49m\u001b[38;5;241;43m=\u001b[39;49m\u001b[43m \u001b[49m\u001b[43mprobs\u001b[49m\u001b[43m)\u001b[49m\n",
      "File \u001b[0;32mmtrand.pyx:935\u001b[0m, in \u001b[0;36mnumpy.random.mtrand.RandomState.choice\u001b[0;34m()\u001b[0m\n",
      "\u001b[0;31mValueError\u001b[0m: probabilities contain NaN"
     ]
    }
   ],
   "source": [
    "selections = np.zeros((len(stratum_1) + len(stratum_2) - 1, len(theta_1_grid)))\n",
    "intersection_marts = np.zeros((len(stratum_1) + len(stratum_2), len(theta_1_grid)))\n",
    "\n",
    "for i in range(len(theta_1_grid)):\n",
    "    mart_1 = alpha_mart(x = shuffled_1, N = N[0], mu = theta_1_grid[i], eta = 1/(2-v[0]), f = .01, u = u[0])\n",
    "    mart_2 = alpha_mart(x = shuffled_2, N = N[1], mu = theta_2_grid[i], eta = 1/(2-v[1]), f = .01, u = u[1])\n",
    "    intersection_marts[:,i] = stratum_selector(marts = [mart_1, mart_2], rule = multinomial_selector)[1]"
   ]
  },
  {
   "cell_type": "code",
   "execution_count": 13,
   "id": "afdf285b",
   "metadata": {},
   "outputs": [
    {
     "data": {
      "text/plain": [
       "array([9.87824675e-01, 8.80803936e-01, 7.84288484e-01, 6.97356505e-01,\n",
       "       6.19157249e-01, 5.48906327e-01, 4.85881264e-01, 4.29417303e-01,\n",
       "       3.78903449e-01, 3.33778728e-01, 2.93528672e-01, 2.57682006e-01,\n",
       "       2.25807531e-01, 1.97511196e-01, 1.72433344e-01, 1.50246133e-01,\n",
       "       1.30651117e-01, 1.13376974e-01, 9.81773905e-02, 8.48290745e-02,\n",
       "       7.31299053e-02, 6.28972048e-02, 5.39661277e-02, 4.61881617e-02,\n",
       "       3.94297343e-02, 3.35709170e-02, 2.85042250e-02, 2.41335038e-02,\n",
       "       2.03728995e-02, 1.71459070e-02, 1.43844919e-02, 1.20282812e-02,\n",
       "       1.00238182e-02, 8.32387893e-03, 6.88684404e-03, 5.67612427e-03,\n",
       "       4.65963502e-03, 3.80931681e-03, 3.10069856e-03, 2.51250054e-03,\n",
       "       2.02627409e-03, 1.62607551e-03, 1.29817138e-03, 1.03077305e-03,\n",
       "       8.13797783e-04, 6.38654682e-04, 4.98053060e-04, 3.85831578e-04,\n",
       "       2.96806240e-04, 2.26635619e-04, 1.71701730e-04, 1.29005092e-04,\n",
       "       9.60726333e-05, 7.08771639e-05, 5.17672506e-05, 3.74064143e-05,\n",
       "       2.67206484e-05, 1.88533417e-05, 1.31267603e-05, 9.00931952e-06,\n",
       "       6.08793991e-06, 4.04484861e-06, 2.63824620e-06, 1.68631591e-06,\n",
       "       1.05410552e-06, 6.42861523e-07, 3.81441728e-07, 2.19475329e-07,\n",
       "       1.21979506e-07, 6.51793468e-08, 3.32547688e-08, 0.00000000e+00,\n",
       "       0.00000000e+00, 0.00000000e+00, 0.00000000e+00, 0.00000000e+00,\n",
       "       0.00000000e+00, 0.00000000e+00, 0.00000000e+00, 0.00000000e+00])"
      ]
     },
     "execution_count": 13,
     "metadata": {},
     "output_type": "execute_result"
    }
   ],
   "source": [
    "marts = [mart_1, mart_2]\n",
    "marts[0]"
   ]
  },
  {
   "cell_type": "code",
   "execution_count": null,
   "id": "87744d5b",
   "metadata": {},
   "outputs": [],
   "source": []
  }
 ],
 "metadata": {
  "kernelspec": {
   "display_name": "Python 3 (ipykernel)",
   "language": "python",
   "name": "python3"
  },
  "language_info": {
   "codemirror_mode": {
    "name": "ipython",
    "version": 3
   },
   "file_extension": ".py",
   "mimetype": "text/x-python",
   "name": "python",
   "nbconvert_exporter": "python",
   "pygments_lexer": "ipython3",
   "version": "3.8.9"
  }
 },
 "nbformat": 4,
 "nbformat_minor": 5
}
