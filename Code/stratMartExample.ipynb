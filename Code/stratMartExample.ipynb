{
 "cells": [
  {
   "cell_type": "code",
   "execution_count": 1,
   "id": "1bb42aee",
   "metadata": {},
   "outputs": [],
   "source": [
    "import math\n",
    "import scipy as sp\n",
    "import matplotlib.pyplot as plt\n",
    "from scipy.stats import bernoulli, uniform, chi2\n",
    "import numpy as np\n",
    "from scipy.stats.mstats import gmean\n",
    "from numpy.testing import assert_allclose\n",
    "from utils import sprt_mart, alpha_mart, shrink_trunc, stratum_selector, multinomial_selector\n",
    "np.random.seed(123456789)"
   ]
  },
  {
   "cell_type": "code",
   "execution_count": 2,
   "id": "182c21df",
   "metadata": {},
   "outputs": [],
   "source": [
    "theta = 1/2 \n",
    "hand_tally = np.concatenate((np.ones(40), np.zeros(40), np.ones(60), np.zeros(40)))\n",
    "reported_tally = np.concatenate((np.ones(40), np.zeros(40), np.ones(70), np.zeros(30)))\n",
    "omega = reported_tally - hand_tally\n",
    "strata = np.concatenate((np.ones(80), 2*np.ones(100)))\n",
    "\n",
    "\n",
    "v = np.array([2 * np.mean(reported_tally[strata == 1]) - 1, 2 * np.mean(reported_tally[strata == 2]) - 1])\n",
    "u = 2 / (2 - v)\n",
    "stratum_1 = (1 - omega[strata == 1]) / (2 - v[0])\n",
    "stratum_2 = (1 - omega[strata == 2]) / (2 - v[1])"
   ]
  },
  {
   "cell_type": "code",
   "execution_count": 3,
   "id": "d2f840d3",
   "metadata": {},
   "outputs": [],
   "source": [
    "shuffled_1 = np.random.permutation(stratum_1)\n",
    "shuffled_2 = np.random.permutation(stratum_2)\n",
    "N = np.concatenate((np.array([len(shuffled_1)]), np.array([len(shuffled_2)])))\n",
    "w = N/sum(N)\n",
    "epsilon = 1 / (2*np.max(N))\n",
    "theta_1_grid = np.arange(epsilon, u[0] - epsilon, epsilon) #sequence from epsilon to u[0] - epsilon\n",
    "theta_2_grid = (theta_1_grid - w[0] * theta_1_grid) / w[1]"
   ]
  },
  {
   "cell_type": "code",
   "execution_count": 4,
   "id": "dc9f0213",
   "metadata": {},
   "outputs": [
    {
     "name": "stderr",
     "output_type": "stream",
     "text": [
      "/Users/Jake/Library/Python/3.8/lib/python/site-packages/scipy/stats/_stats_py.py:287: RuntimeWarning: invalid value encountered in log\n",
      "  log_a = np.log(a)\n"
     ]
    },
    {
     "ename": "ValueError",
     "evalue": "probabilities contain NaN",
     "output_type": "error",
     "traceback": [
      "\u001b[0;31m---------------------------------------------------------------------------\u001b[0m",
      "\u001b[0;31mValueError\u001b[0m                                Traceback (most recent call last)",
      "Input \u001b[0;32mIn [4]\u001b[0m, in \u001b[0;36m<cell line: 4>\u001b[0;34m()\u001b[0m\n\u001b[1;32m      5\u001b[0m mart_1 \u001b[38;5;241m=\u001b[39m alpha_mart(x \u001b[38;5;241m=\u001b[39m shuffled_1, N \u001b[38;5;241m=\u001b[39m N[\u001b[38;5;241m0\u001b[39m], mu \u001b[38;5;241m=\u001b[39m theta_1_grid[i], eta \u001b[38;5;241m=\u001b[39m \u001b[38;5;241m1\u001b[39m\u001b[38;5;241m/\u001b[39m(\u001b[38;5;241m2\u001b[39m\u001b[38;5;241m-\u001b[39mv[\u001b[38;5;241m0\u001b[39m]), f \u001b[38;5;241m=\u001b[39m \u001b[38;5;241m.01\u001b[39m, u \u001b[38;5;241m=\u001b[39m u[\u001b[38;5;241m0\u001b[39m])\n\u001b[1;32m      6\u001b[0m mart_2 \u001b[38;5;241m=\u001b[39m alpha_mart(x \u001b[38;5;241m=\u001b[39m shuffled_2, N \u001b[38;5;241m=\u001b[39m N[\u001b[38;5;241m1\u001b[39m], mu \u001b[38;5;241m=\u001b[39m theta_2_grid[i], eta \u001b[38;5;241m=\u001b[39m \u001b[38;5;241m1\u001b[39m\u001b[38;5;241m/\u001b[39m(\u001b[38;5;241m2\u001b[39m\u001b[38;5;241m-\u001b[39mv[\u001b[38;5;241m1\u001b[39m]), f \u001b[38;5;241m=\u001b[39m \u001b[38;5;241m.01\u001b[39m, u \u001b[38;5;241m=\u001b[39m u[\u001b[38;5;241m1\u001b[39m])\n\u001b[0;32m----> 7\u001b[0m intersection_marts[:,i] \u001b[38;5;241m=\u001b[39m \u001b[43mstratum_selector\u001b[49m\u001b[43m(\u001b[49m\u001b[43mmarts\u001b[49m\u001b[43m \u001b[49m\u001b[38;5;241;43m=\u001b[39;49m\u001b[43m \u001b[49m\u001b[43m[\u001b[49m\u001b[43mmart_1\u001b[49m\u001b[43m,\u001b[49m\u001b[43m \u001b[49m\u001b[43mmart_2\u001b[49m\u001b[43m]\u001b[49m\u001b[43m,\u001b[49m\u001b[43m \u001b[49m\u001b[43mrule\u001b[49m\u001b[43m \u001b[49m\u001b[38;5;241;43m=\u001b[39;49m\u001b[43m \u001b[49m\u001b[43mmultinomial_selector\u001b[49m\u001b[43m)\u001b[49m[\u001b[38;5;241m1\u001b[39m]\n",
      "File \u001b[0;32m~/Dropbox/RLAs/alpha/Code/utils.py:182\u001b[0m, in \u001b[0;36mstratum_selector\u001b[0;34m(marts, rule, seed)\u001b[0m\n\u001b[1;32m    180\u001b[0m \u001b[38;5;28;01mwhile\u001b[39;00m \u001b[38;5;28many\u001b[39m(running_n \u001b[38;5;241m<\u001b[39m ns\u001b[38;5;241m-\u001b[39m\u001b[38;5;241m1\u001b[39m):\n\u001b[1;32m    181\u001b[0m     t \u001b[38;5;241m+\u001b[39m\u001b[38;5;241m=\u001b[39m \u001b[38;5;241m1\u001b[39m\n\u001b[0;32m--> 182\u001b[0m     next_s \u001b[38;5;241m=\u001b[39m \u001b[43mrule\u001b[49m\u001b[43m(\u001b[49m\u001b[43mrunning_T\u001b[49m\u001b[43m,\u001b[49m\u001b[43m \u001b[49m\u001b[43mrunning_n\u001b[49m\u001b[43m,\u001b[49m\u001b[43m \u001b[49m\u001b[43mns\u001b[49m\u001b[43m)\u001b[49m\n\u001b[1;32m    183\u001b[0m     running_n[next_s] \u001b[38;5;241m+\u001b[39m\u001b[38;5;241m=\u001b[39m \u001b[38;5;241m1\u001b[39m\n\u001b[1;32m    184\u001b[0m     running_T[next_s] \u001b[38;5;241m=\u001b[39m marts[next_s][\u001b[38;5;28mint\u001b[39m(running_n[next_s])]\n",
      "File \u001b[0;32m~/Dropbox/RLAs/alpha/Code/utils.py:215\u001b[0m, in \u001b[0;36mmultinomial_selector\u001b[0;34m(running_T, running_n, ns, prng)\u001b[0m\n\u001b[1;32m    213\u001b[0m ratios \u001b[38;5;241m=\u001b[39m np\u001b[38;5;241m.\u001b[39mwhere(available, ratios, \u001b[38;5;241m0\u001b[39m)\n\u001b[1;32m    214\u001b[0m probs \u001b[38;5;241m=\u001b[39m ratios\u001b[38;5;241m/\u001b[39m\u001b[38;5;28msum\u001b[39m(ratios)\n\u001b[0;32m--> 215\u001b[0m \u001b[38;5;28;01mreturn\u001b[39;00m \u001b[43mnp\u001b[49m\u001b[38;5;241;43m.\u001b[39;49m\u001b[43mrandom\u001b[49m\u001b[38;5;241;43m.\u001b[39;49m\u001b[43mchoice\u001b[49m\u001b[43m(\u001b[49m\u001b[38;5;28;43mlen\u001b[39;49m\u001b[43m(\u001b[49m\u001b[43mratios\u001b[49m\u001b[43m)\u001b[49m\u001b[43m,\u001b[49m\u001b[43m \u001b[49m\u001b[43mp\u001b[49m\u001b[43m \u001b[49m\u001b[38;5;241;43m=\u001b[39;49m\u001b[43m \u001b[49m\u001b[43mprobs\u001b[49m\u001b[43m)\u001b[49m\n",
      "File \u001b[0;32mmtrand.pyx:935\u001b[0m, in \u001b[0;36mnumpy.random.mtrand.RandomState.choice\u001b[0;34m()\u001b[0m\n",
      "\u001b[0;31mValueError\u001b[0m: probabilities contain NaN"
     ]
    }
   ],
   "source": [
    "selections = np.zeros((len(stratum_1) + len(stratum_2) - 1, len(theta_1_grid)))\n",
    "intersection_marts = np.zeros((len(stratum_1) + len(stratum_2) - 1, len(theta_1_grid)))\n",
    "\n",
    "for i in range(len(theta_1_grid)):\n",
    "    mart_1 = alpha_mart(x = shuffled_1, N = N[0], mu = theta_1_grid[i], eta = 1/(2-v[0]), f = .01, u = u[0])\n",
    "    mart_2 = alpha_mart(x = shuffled_2, N = N[1], mu = theta_2_grid[i], eta = 1/(2-v[1]), f = .01, u = u[1])\n",
    "    intersection_marts[:,i] = stratum_selector(marts = [mart_1, mart_2], rule = multinomial_selector)[1]"
   ]
  },
  {
   "cell_type": "code",
   "execution_count": 5,
   "id": "6dd557e4",
   "metadata": {},
   "outputs": [
    {
     "data": {
      "text/plain": [
       "array([ 1.00064004e+00,  1.00879109e+00,  1.01709307e+00,  1.02555039e+00,\n",
       "        1.03416760e+00,  1.04294947e+00,  1.05190094e+00,  1.06102716e+00,\n",
       "        1.07033349e+00,  1.07982553e+00,  1.08950910e+00,  1.09939029e+00,\n",
       "        1.10947544e+00,  1.11977118e+00,  1.13028442e+00,  1.14102240e+00,\n",
       "        1.15199268e+00,  1.16320318e+00,  1.17466218e+00,  1.18637834e+00,\n",
       "        1.19836078e+00,  1.18622851e-04,  1.18600821e-04,  1.18578600e-04,\n",
       "        1.18556182e-04,  1.18533560e-04,  1.18510727e-04,  1.18487678e-04,\n",
       "        1.18464405e-04,  1.18440804e-04,  1.09892876e-04,  1.09759251e-04,\n",
       "        1.09624338e-04,  1.09488095e-04,  1.09350473e-04,  1.09211427e-04,\n",
       "        1.09070906e-04,  1.08928857e-04,  1.08785227e-04,  1.08639958e-04,\n",
       "        1.08492991e-04,  1.08344264e-04,  1.08193710e-04,  1.00799962e-04,\n",
       "        1.00535554e-04,  1.00267958e-04,  9.99970469e-05,  9.97226910e-05,\n",
       "        9.94447514e-05,  9.91630817e-05,  9.88775274e-05,  9.85879251e-05,\n",
       "        9.82941015e-05,  9.16246277e-05,  9.12117316e-05,  9.07928281e-05,\n",
       "        9.03676413e-05,  8.99358772e-05,  8.37398690e-05,  8.31898590e-05,\n",
       "        7.73112125e-05,  7.66495317e-05,  7.59776832e-05,  7.52951124e-05,\n",
       "        7.46012190e-05,  7.38953518e-05,  7.31768022e-05,  7.24447967e-05,\n",
       "        7.16984887e-05,  7.09369475e-05,  7.01591469e-05,  6.93639503e-05,\n",
       "        6.85500934e-05,  6.77161632e-05,  6.68605717e-05,  6.59815243e-05,\n",
       "        6.50769799e-05,  6.41446002e-05,  6.31816853e-05,  6.21850897e-05,\n",
       "        6.11511123e-05,  6.00753469e-05,  5.50656308e-05,  5.36957779e-05,\n",
       "        4.85254853e-05,  4.67453616e-05,  4.48280716e-05,  3.89500037e-05,\n",
       "        3.60367474e-05,  3.25182928e-05,  2.77942820e-05,  1.91651584e-05,\n",
       "       -2.72353281e-19, -1.17683517e-19, -4.64540197e-20, -1.63570492e-20,\n",
       "       -4.95668157e-21, -1.21885612e-21, -2.17652879e-22, -2.13385176e-23])"
      ]
     },
     "execution_count": 5,
     "metadata": {},
     "output_type": "execute_result"
    }
   ],
   "source": [
    "#NEED TO CHECK THIS\n",
    "#alpha_mart() seems to be returning negative numbers, which makes things fail downstreatm\n",
    "mart_2"
   ]
  }
 ],
 "metadata": {
  "kernelspec": {
   "display_name": "Python 3 (ipykernel)",
   "language": "python",
   "name": "python3"
  },
  "language_info": {
   "codemirror_mode": {
    "name": "ipython",
    "version": 3
   },
   "file_extension": ".py",
   "mimetype": "text/x-python",
   "name": "python",
   "nbconvert_exporter": "python",
   "pygments_lexer": "ipython3",
   "version": "3.8.9"
  }
 },
 "nbformat": 4,
 "nbformat_minor": 5
}
