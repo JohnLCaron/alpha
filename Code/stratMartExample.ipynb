{
 "cells": [
  {
   "cell_type": "code",
   "execution_count": 1,
   "id": "c7c83862",
   "metadata": {},
   "outputs": [],
   "source": [
    "import math\n",
    "import scipy as sp\n",
    "import matplotlib.pyplot as plt\n",
    "from scipy.stats import bernoulli, uniform, chi2\n",
    "import numpy as np\n",
    "from scipy.stats.mstats import gmean\n",
    "from numpy.testing import assert_allclose\n",
    "from utils import sprt_mart, alpha_mart, shrink_trunc, stratum_selector, \\\n",
    "    multinomial_selector, get_global_pvalue, simulate_audits\n",
    "np.random.seed(123456789)"
   ]
  },
  {
   "cell_type": "code",
   "execution_count": 2,
   "id": "a7444bec",
   "metadata": {},
   "outputs": [],
   "source": [
    "theta = 1/2 \n",
    "hand_tally = np.concatenate((np.ones(40), np.zeros(40), np.ones(60), np.zeros(40)))\n",
    "reported_tally = np.concatenate((np.ones(40), np.zeros(40), np.ones(70), np.zeros(30)))\n",
    "omega = reported_tally - hand_tally\n",
    "strata = np.concatenate((np.ones(80), 2*np.ones(100)))\n",
    "\n",
    "\n",
    "v = np.array([2 * np.mean(reported_tally[strata == 1]) - 1, 2 * np.mean(reported_tally[strata == 2]) - 1])\n",
    "u = 2 / (2 - v)\n",
    "stratum_1 = (1 - omega[strata == 1]) / (2 - v[0])\n",
    "stratum_2 = (1 - omega[strata == 2]) / (2 - v[1])"
   ]
  },
  {
   "cell_type": "code",
   "execution_count": 8,
   "id": "fd306b63",
   "metadata": {},
   "outputs": [],
   "source": [
    "p_value, stratum_selections, null_selections = get_global_pvalue(\n",
    "    strata = [stratum_1, stratum_2], \n",
    "    u = u, \n",
    "    v = v, \n",
    "    rule = multinomial_selector)"
   ]
  },
  {
   "cell_type": "code",
   "execution_count": 10,
   "id": "95465d67",
   "metadata": {},
   "outputs": [
    {
     "ename": "AttributeError",
     "evalue": "module 'numpy' has no attribute 'zeroes'",
     "output_type": "error",
     "traceback": [
      "\u001b[0;31m---------------------------------------------------------------------------\u001b[0m",
      "\u001b[0;31mAttributeError\u001b[0m                            Traceback (most recent call last)",
      "Input \u001b[0;32mIn [10]\u001b[0m, in \u001b[0;36m<cell line: 1>\u001b[0;34m()\u001b[0m\n\u001b[0;32m----> 1\u001b[0m \u001b[43msimulate_audits\u001b[49m\u001b[43m(\u001b[49m\u001b[43mstrata\u001b[49m\u001b[43m \u001b[49m\u001b[38;5;241;43m=\u001b[39;49m\u001b[43m \u001b[49m\u001b[43m[\u001b[49m\u001b[43mstratum_1\u001b[49m\u001b[43m,\u001b[49m\u001b[43m \u001b[49m\u001b[43mstratum_2\u001b[49m\u001b[43m]\u001b[49m\u001b[43m,\u001b[49m\u001b[43m \u001b[49m\u001b[43mu\u001b[49m\u001b[43m \u001b[49m\u001b[38;5;241;43m=\u001b[39;49m\u001b[43m \u001b[49m\u001b[43mu\u001b[49m\u001b[43m,\u001b[49m\u001b[43m \u001b[49m\u001b[43mv\u001b[49m\u001b[43m \u001b[49m\u001b[38;5;241;43m=\u001b[39;49m\u001b[43m \u001b[49m\u001b[43mv\u001b[49m\u001b[43m,\u001b[49m\u001b[43m \u001b[49m\u001b[43mrule\u001b[49m\u001b[43m \u001b[49m\u001b[38;5;241;43m=\u001b[39;49m\u001b[43m \u001b[49m\u001b[43mmultinomial_selector\u001b[49m\u001b[43m,\u001b[49m\u001b[43m \u001b[49m\u001b[43mn_sims\u001b[49m\u001b[43m \u001b[49m\u001b[38;5;241;43m=\u001b[39;49m\u001b[43m \u001b[49m\u001b[38;5;241;43m30\u001b[39;49m\u001b[43m,\u001b[49m\u001b[43m \u001b[49m\u001b[43malpha\u001b[49m\u001b[43m \u001b[49m\u001b[38;5;241;43m=\u001b[39;49m\u001b[43m \u001b[49m\u001b[38;5;241;43m.05\u001b[39;49m\u001b[43m)\u001b[49m\n",
      "File \u001b[0;32m~/Dropbox/RLAs/alpha/Code/utils.py:301\u001b[0m, in \u001b[0;36msimulate_audits\u001b[0;34m(strata, u, v, rule, n_sims, alpha)\u001b[0m\n\u001b[1;32m    300\u001b[0m \u001b[38;5;28;01mdef\u001b[39;00m \u001b[38;5;21msimulate_audits\u001b[39m(strata: \u001b[38;5;28mlist\u001b[39m, u: np\u001b[38;5;241m.\u001b[39marray, v: np\u001b[38;5;241m.\u001b[39marray, rule: callable, n_sims: \u001b[38;5;28mint\u001b[39m, alpha: \u001b[38;5;28mfloat\u001b[39m \u001b[38;5;241m=\u001b[39m \u001b[38;5;241m0.05\u001b[39m):\n\u001b[0;32m--> 301\u001b[0m     stopping_times \u001b[38;5;241m=\u001b[39m \u001b[43mnp\u001b[49m\u001b[38;5;241;43m.\u001b[39;49m\u001b[43mzeroes\u001b[49m(n_sims)\n\u001b[1;32m    302\u001b[0m     \u001b[38;5;28;01mfor\u001b[39;00m i \u001b[38;5;129;01min\u001b[39;00m np\u001b[38;5;241m.\u001b[39marange(n_sims):\n\u001b[1;32m    303\u001b[0m         p_values, stratum_selections, null_selections \u001b[38;5;241m=\u001b[39m get_global_pvalue(strata \u001b[38;5;241m=\u001b[39m strata, u \u001b[38;5;241m=\u001b[39m u, v \u001b[38;5;241m=\u001b[39m v, rule \u001b[38;5;241m=\u001b[39m rule)\n",
      "File \u001b[0;32m~/Library/Python/3.8/lib/python/site-packages/numpy/__init__.py:315\u001b[0m, in \u001b[0;36m__getattr__\u001b[0;34m(attr)\u001b[0m\n\u001b[1;32m    312\u001b[0m     \u001b[38;5;28;01mfrom\u001b[39;00m \u001b[38;5;21;01m.\u001b[39;00m\u001b[38;5;21;01mtesting\u001b[39;00m \u001b[38;5;28;01mimport\u001b[39;00m Tester\n\u001b[1;32m    313\u001b[0m     \u001b[38;5;28;01mreturn\u001b[39;00m Tester\n\u001b[0;32m--> 315\u001b[0m \u001b[38;5;28;01mraise\u001b[39;00m \u001b[38;5;167;01mAttributeError\u001b[39;00m(\u001b[38;5;124m\"\u001b[39m\u001b[38;5;124mmodule \u001b[39m\u001b[38;5;132;01m{!r}\u001b[39;00m\u001b[38;5;124m has no attribute \u001b[39m\u001b[38;5;124m\"\u001b[39m\n\u001b[1;32m    316\u001b[0m                      \u001b[38;5;124m\"\u001b[39m\u001b[38;5;132;01m{!r}\u001b[39;00m\u001b[38;5;124m\"\u001b[39m\u001b[38;5;241m.\u001b[39mformat(\u001b[38;5;18m__name__\u001b[39m, attr))\n",
      "\u001b[0;31mAttributeError\u001b[0m: module 'numpy' has no attribute 'zeroes'"
     ]
    }
   ],
   "source": [
    "simulate_audits(strata = [stratum_1, stratum_2], u = u, v = v, rule = multinomial_selector, n_sims = 30, alpha = .05)"
   ]
  },
  {
   "cell_type": "code",
   "execution_count": 4,
   "id": "773ab7e8",
   "metadata": {},
   "outputs": [
    {
     "data": {
      "text/plain": [
       "array([166., 163., 167., 167., 167.])"
      ]
     },
     "execution_count": 4,
     "metadata": {},
     "output_type": "execute_result"
    }
   ],
   "source": [
    "n_sims = 5\n",
    "rule = multinomial_selector\n",
    "strata = [stratum_1, stratum_2]\n",
    "alpha = 0.05\n",
    "stopping_times = np.zeros(n_sims)\n",
    "for i in np.arange(n_sims):\n",
    "    p_values, stratum_selections, null_selections = get_global_pvalue(strata = strata, u = u, v = v, rule = rule)\n",
    "    if any(p_values < alpha):\n",
    "        stopping_times[i] = np.min(np.where(p_values < alpha))\n",
    "    else:\n",
    "        stopping_times[i] = np.inf\n",
    "stopping_times"
   ]
  }
 ],
 "metadata": {
  "kernelspec": {
   "display_name": "Python 3 (ipykernel)",
   "language": "python",
   "name": "python3"
  },
  "language_info": {
   "codemirror_mode": {
    "name": "ipython",
    "version": 3
   },
   "file_extension": ".py",
   "mimetype": "text/x-python",
   "name": "python",
   "nbconvert_exporter": "python",
   "pygments_lexer": "ipython3",
   "version": "3.8.9"
  }
 },
 "nbformat": 4,
 "nbformat_minor": 5
}
